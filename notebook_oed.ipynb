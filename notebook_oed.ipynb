{
 "cells": [
  {
   "cell_type": "code",
   "execution_count": 118,
   "metadata": {},
   "outputs": [],
   "source": [
    "#Imports\n",
    "import matplotlib.pyplot as plt\n",
    "import numpy as np\n",
    "\n",
    "from utils import read_input_file\n",
    "from sample_gen import sample_prior,descritize_space\n",
    "from data_gen import generate_data\n",
    "from like_models import compute_loglikes"
   ]
  },
  {
   "cell_type": "code",
   "execution_count": 119,
   "metadata": {},
   "outputs": [],
   "source": [
    "#Load Configuration\n",
    "nlpts, ndata, lat_range, long_range, depth_range, sensors = read_input_file('inputs.dat')"
   ]
  },
  {
   "cell_type": "code",
   "execution_count": 120,
   "metadata": {},
   "outputs": [],
   "source": [
    "#Sample prior some how to generate events that we will use to generate data\n",
    "theta_data = sample_prior(lat_range,long_range, depth_range, nlpts)"
   ]
  },
  {
   "cell_type": "code",
   "execution_count": 121,
   "metadata": {},
   "outputs": [],
   "source": [
    "#Generate Hypothetical Datasets\n",
    "dataz = np.zeros([nlpts*ndata,np.int(sensors.shape[0]*sensors[0,3])])\n",
    "for ievent in range(0,nlpts):\n",
    "    theta = theta_data[ievent,:]\n",
    "    dataz[(ievent*ndata):((ievent+1)*ndata),:] = generate_data(theta,sensors,ndata)"
   ]
  },
  {
   "cell_type": "code",
   "execution_count": 122,
   "metadata": {},
   "outputs": [],
   "source": [
    "#Define the event space descritization\n",
    "theta_space = descritize_space(lat_range,long_range, depth_range, nlpts)"
   ]
  },
  {
   "cell_type": "code",
   "execution_count": 123,
   "metadata": {},
   "outputs": [],
   "source": [
    "#Distribute data and event space to processes\n",
    "#Compute likelhood of each event given dataset\n",
    "loglikes = np.zeros([nlpts*ndata,nlpts])\n",
    "for ievent in range(0,nlpts):\n",
    "    theta = theta_space[ievent,:]\n",
    "    \n",
    "    #compute likelihoods\n",
    "    loglikes[:,ievent] = compute_loglikes(theta,sensors,dataz)\n",
    "    \n",
    "#Collect data\n"
   ]
  },
  {
   "cell_type": "code",
   "execution_count": 124,
   "metadata": {},
   "outputs": [],
   "source": [
    "#Combine data to compute posterior and KL divergence\n",
    "ig = np.zeros(nlpts*ndata)\n",
    "for idata in range(0,nlpts*ndata):\n",
    "    loglike = loglikes[idata,:];\n",
    "    probs = np.exp(loglike - np.max(loglike))/np.sum(np.exp(loglike - np.max(loglike)))\n",
    "    logprobs = (loglike - np.max(loglike)) - np.log(np.sum(np.exp(loglike - np.max(loglike))))\n",
    "    ig[idata] = np.sum(probs*(logprobs+np.log(probs.size)))"
   ]
  },
  {
   "cell_type": "code",
   "execution_count": 125,
   "metadata": {},
   "outputs": [
    {
     "data": {
      "text/plain": [
       "0.79982953277006597"
      ]
     },
     "execution_count": 125,
     "metadata": {},
     "output_type": "execute_result"
    }
   ],
   "source": [
    "#Average\n",
    "np.mean(ig)"
   ]
  },
  {
   "cell_type": "code",
   "execution_count": null,
   "metadata": {},
   "outputs": [],
   "source": []
  },
  {
   "cell_type": "code",
   "execution_count": null,
   "metadata": {},
   "outputs": [],
   "source": []
  }
 ],
 "metadata": {
  "kernelspec": {
   "display_name": "Python 3 (ipykernel)",
   "language": "python",
   "name": "python3"
  },
  "language_info": {
   "codemirror_mode": {
    "name": "ipython",
    "version": 3
   },
   "file_extension": ".py",
   "mimetype": "text/x-python",
   "name": "python",
   "nbconvert_exporter": "python",
   "pygments_lexer": "ipython3",
   "version": "3.9.12"
  }
 },
 "nbformat": 4,
 "nbformat_minor": 4
}
