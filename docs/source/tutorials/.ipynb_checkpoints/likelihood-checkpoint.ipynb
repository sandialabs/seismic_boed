{
 "cells": [
  {
   "cell_type": "markdown",
   "id": "1b009178",
   "metadata": {},
   "source": [
    "# Constructing likelihood models"
   ]
  },
  {
   "cell_type": "markdown",
   "id": "f00fd644",
   "metadata": {},
   "source": [
    "In module `like_models.py` we have our likelihood function models.\n",
    "Therefore, this is very similar to the `data_gen.py` module except\n",
    "instead of generating the synthetic data given an event, it computes the\n",
    "log likelihood of synthetic data given an event. The core function for\n",
    "this is `compute_loglikes`. This function takes as input the following\n",
    "variables:\n",
    "\n",
    "-   `theta`: Corresponds to the event hypothesis whose likelihood we\n",
    "    want to assess.\n",
    "\n",
    "-   `sensors`: Corresponds to the sensor network configuration.\n",
    "\n",
    "-   `data`: the synthetic data that we want to compute the likelihood of\n",
    "    (given the event hypothesis theta) for each sensor.\n",
    "\n",
    "In this code, data is the full dataset for all experiments since for\n",
    "each experiment we need to compute the likelihood for each event\n",
    "hypothesis so it is most efficient to do it in this vectorized form. So\n",
    "data has dimensions\n",
    "```text\n",
    "(nlpts_data * ndata, # of sensors * Length of sensor output vec)\n",
    "```\n",
    "\n",
    "and corresponds to the variables `dataz` in the `eig_calc.py` code. The\n",
    "`compute_loglikes` function returns one output variable:\n",
    "\n",
    "-   `loglikes`: the log likelihood of the data given the event\n",
    "    hypothesis theta. Has dimensions `[nlpts_data * ndata]`.\n",
    "\n",
    "Within the `compute_loglikes` function, any sensor type model can be\n",
    "implemented as long as it agrees with the models used in the\n",
    "`data_gen.py` module. As currently written, the `compute_loglikes` function\n",
    "looks like\n",
    "\n",
    "```python\n",
    "def compute_loglikes(theta,sensors,data):\n",
    "    dloglikes = detection_likelihood(theta,sensors,data)\n",
    "    aloglikes = arrival_likelihood_gaussian(theta, sensors, data)\n",
    "    loglikes = dloglikes + aloglikes\n",
    "    \n",
    "    return loglikes\n",
    "```\n",
    "\n",
    "The likelihood, given the event hypothesis theta, is computed based on the probability\n",
    "of detecting an arrival at each station. If an arrival is detected, then\n",
    "the probability of detecting an arrival with that arrival time is also\n",
    "computed. Other likelihood models could be easily added to the module\n",
    "and put into this function."
   ]
  },
  {
   "cell_type": "code",
   "execution_count": null,
   "id": "5f1be7d8",
   "metadata": {},
   "outputs": [],
   "source": []
  }
 ],
 "metadata": {
  "kernelspec": {
   "display_name": "Python 3 (ipykernel)",
   "language": "python",
   "name": "python3"
  },
  "language_info": {
   "codemirror_mode": {
    "name": "ipython",
    "version": 3
   },
   "file_extension": ".py",
   "mimetype": "text/x-python",
   "name": "python",
   "nbconvert_exporter": "python",
   "pygments_lexer": "ipython3",
   "version": "3.9.12"
  }
 },
 "nbformat": 4,
 "nbformat_minor": 5
}
