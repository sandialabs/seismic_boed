{
 "cells": [
  {
   "cell_type": "markdown",
   "id": "42226503",
   "metadata": {},
   "source": [
    "# Sampling synthetic data\n",
    "\n",
    "The module `data_gen.py` contains the functions needed to generate\n",
    "synthetic data. The core function is `generate_data`. This function\n",
    "takes as input three variables\n",
    "\n",
    "-   `theta`: an event description (e.g. lat, long, depth, mag).\n",
    "\n",
    "-   `sensors`: the network configuration (e.g. lat, long, noise std, num\n",
    "    variables, and sensor type for each sensor).\n",
    "\n",
    "-   `ndata`: the number of synthetic data realizations to generate for\n",
    "    each data generating event.\n",
    "\n",
    "This function returns the synthetic data for each sensor for each of the\n",
    "data realizations with this set of event characteristics.\n",
    "\n",
    "Inside the `generate_data` function, the data generating functions are\n",
    "very flexible and can be modified to be anything. However, it is\n",
    "important that these data generating functions correspond to the\n",
    "likelihood functions e.g. that the data $\\mathcal{D}$ is in fact\n",
    "distributed according to the likelihood\n",
    "$\\mathcal{D} \\sim p(\\mathcal{D}|\\theta)$. Therefore, when constructing\n",
    "these functions it is often helpful to call functions from the\n",
    "`like_models.py` module imported as `lm`.\n",
    "\n",
    "As currently written, the `generate_data` function looks like\n",
    "\n",
    "```python\n",
    "def generate_data(theta,sensors,ndata):\n",
    "    probs = lm.detection_probability(theta,sensors)\n",
    "    fullprobs = np.outer(np.ones(ndata),probs)\n",
    "    u_mat = np.random.uniform(size = fullprobs.shape)\n",
    "    \n",
    "    atimes = gen_arrival_normal(theta, sensors, ndata)    \n",
    "    data = np.concatenate((atimes,u_mat<fullprobs),axis=1)\n",
    "\n",
    "    return data\n",
    "```\n",
    "\n",
    "but it can be modified to fit the models being used in the scenario.\n",
    "In this function, the data generated for\n",
    "the sensors has 2 parts. First is just an indicator function that\n",
    "registers 1 if the sensor detects an event and 0 otherwise. The second\n",
    "is the time at which the station registers the event. The functions\n",
    "`lm.detection_probability` and `gen_arrival_normal` are used to generate\n",
    "this data."
   ]
  }
 ],
 "metadata": {
  "kernelspec": {
   "display_name": "Python 3 (ipykernel)",
   "language": "python",
   "name": "python3"
  },
  "language_info": {
   "codemirror_mode": {
    "name": "ipython",
    "version": 3
   },
   "file_extension": ".py",
   "mimetype": "text/x-python",
   "name": "python",
   "nbconvert_exporter": "python",
   "pygments_lexer": "ipython3",
   "version": "3.9.12"
  }
 },
 "nbformat": 4,
 "nbformat_minor": 5
}
