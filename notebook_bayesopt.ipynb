{
 "cells": [
  {
   "cell_type": "code",
   "execution_count": 1,
   "metadata": {},
   "outputs": [],
   "source": [
    "#Import stuff\n",
    "import matplotlib.pyplot as plt\n",
    "import numpy as np\n",
    "from subprocess import Popen, PIPE\n",
    "import shlex\n",
    "\n",
    "from utils import read_opt_file, write_input_file\n",
    "from sample_gen import sample_sensors\n",
    "\n",
    "from skopt import Optimizer, expected_minimum, dump\n"
   ]
  },
  {
   "cell_type": "code",
   "execution_count": 2,
   "metadata": {},
   "outputs": [],
   "source": [
    "#Load optimization parameters + parameters that will be needed to bulid the input file to the eig code\n",
    "#Needed for input files: nlpts, ndata, lat_range, long_range, depth_range, sensors\n",
    "#Assume we are doing sequential greedy sensor placement\n",
    "#Opt parameters: sensor_lat_range, sensor_long_range, #random initial trial points, #total number of trials\n",
    "#                sensor type and accuracy, optimization criteria (e.g. UCB, EI)\n",
    "#Also need info for how to run mpi and how many sensors to place\n",
    "\n",
    "nopt_random, nopt_total, sensor_lat_range, sensor_long_range, sensor_params, opt_type, nlpts_data, nlpts_space, ndata, lat_range, long_range, depth_range, sensors, mpirunstring, nsensor_place = read_opt_file('inputs_opt.dat')"
   ]
  },
  {
   "cell_type": "code",
   "execution_count": 3,
   "metadata": {
    "scrolled": true
   },
   "outputs": [
    {
     "name": "stdout",
     "output_type": "stream",
     "text": [
      "3 0\n",
      "3 1\n",
      "3 2\n",
      "3 3\n",
      "3 4\n",
      "3 5\n",
      "3 6\n",
      "3 7\n",
      "3 8 0.840922694899\n",
      "3 9 0.840922694899\n",
      "3 10 0.840922694899\n",
      "3 11 0.897441363401\n",
      "3 12 0.897441363401\n",
      "3 13 0.897441363401\n",
      "3 14 0.897441363401\n",
      "3 15 0.897441363401\n",
      "4 0\n",
      "4 1\n",
      "4 2\n",
      "4 3\n",
      "4 4\n",
      "4 5\n",
      "4 6\n",
      "4 7\n",
      "4 8 1.55627087695\n",
      "4 9 1.55627087695\n",
      "4 10 1.55627087695\n",
      "4 11 1.55627087695\n",
      "4 12 1.55627087695\n",
      "4 13 1.56874377009\n",
      "4 14 1.56874377009\n",
      "4 15 1.56874377009\n",
      "5 0\n",
      "5 1\n",
      "5 2\n",
      "5 3\n",
      "5 4\n",
      "5 5\n",
      "5 6\n",
      "5 7\n",
      "5 8 2.1331934656\n",
      "5 9 2.1331934656\n",
      "5 10 2.1331934656\n",
      "5 11 2.1331934656\n",
      "5 12 2.1331934656\n",
      "5 13 2.1348347104\n",
      "5 14 2.1348347104\n",
      "5 15 2.20073793501\n"
     ]
    }
   ],
   "source": [
    "for isamp in range(0,nsensor_place):\n",
    "\n",
    "    #Randomly selection the random trial points (right now this is going to be the same every isamp stage)\n",
    "    #becuase we are intializing the psuedo random seed the same each time.\n",
    "    sensor_loc_random = sample_sensors(sensor_lat_range,sensor_long_range, nopt_random,nlpts_data+nlpts_space)\n",
    "\n",
    "    #For each trial point:\n",
    "    #     Write the input ifile with the sensor info under consideration\n",
    "    #     run the eig calculator\n",
    "    #     read and store eig val + eig std\n",
    "\n",
    "    eigdata = np.zeros([nopt_random,3])\n",
    "    for inc in range(0,nopt_random):\n",
    "        print(str(sensors.shape[0]+1) + ' '+ str(inc))\n",
    "        #write temp input file\n",
    "        fname = 'input_runner.dat'\n",
    "        sloc_trial = sensor_loc_random[inc,:]\n",
    "        write_input_file(fname, nlpts_data, nlpts_space, ndata, lat_range, long_range, depth_range, sloc_trial, sensor_params, sensors)\n",
    "\n",
    "        #run my MPI\n",
    "        process = Popen(shlex.split(mpirunstring + \" python3 eig_calc.py input_runner.dat outputs.npz 0\"), stdout=PIPE, stderr=PIPE, shell=False)\n",
    "        stdout, stderr = process.communicate()\n",
    "        outputdata = np.array([float(item) for item in (stdout.decode(\"utf-8\").rstrip(\"\\n\")).split()])\n",
    "        eigdata[inc,:] = outputdata\n",
    "        \n",
    "    #Initialize the optimizer not it minimizes\n",
    "    #0 -> EI    \n",
    "    if opt_type == 0:\n",
    "        opt = Optimizer([(sensor_lat_range[0],sensor_lat_range[1]),(sensor_long_range[0],sensor_long_range[1])], \"GP\", n_initial_points=0,\n",
    "                    acq_optimizer=\"lbfgs\", acq_func=\"EI\")\n",
    "\n",
    "    opt.tell(sensor_loc_random.tolist(),(-1.0*eigdata[:,0]).tolist())\n",
    "    \n",
    "    eigdata_full = np.zeros([nopt_total,3])\n",
    "    eigdata_full[0:nopt_random,:] = eigdata\n",
    "\n",
    "    #Iterage\n",
    "    for inc in range(nopt_random,nopt_total):\n",
    "        print(str(sensors.shape[0]+1) + ' '+ str(inc)+ \" \" + str(-1.0*opt.get_result().fun))\n",
    "        #write temp input file\n",
    "        fname = 'input_runner.dat'\n",
    "\n",
    "        #get the test pt\n",
    "        sloc_trial = np.array(opt.ask())\n",
    "        write_input_file(fname, nlpts_data, nlpts_space, ndata, lat_range, long_range, depth_range, sloc_trial, sensor_params, sensors)\n",
    "\n",
    "        #run my MPI\n",
    "        process = Popen(shlex.split(mpirunstring + \" python3 eig_calc.py input_runner.dat outputs.npz 0\"), stdout=PIPE, stderr=PIPE, shell=False)\n",
    "        stdout, stderr = process.communicate()\n",
    "        outputdata = np.array([float(item) for item in (stdout.decode(\"utf-8\").rstrip(\"\\n\")).split()])\n",
    "        eigdata_full[inc,:] = outputdata\n",
    "\n",
    "        #update the optimizer\n",
    "        opt.tell(sloc_trial.tolist(),-1.0*outputdata[0])\n",
    "        \n",
    "        #save the optimization results for fun\n",
    "        dump(opt.get_result, 'result' + str(sensors.shape[0]+1) + '.pkl')\n",
    "        \n",
    "    #now find optimial placement\n",
    "    newsensor, neig = expected_minimum(opt.get_result())\n",
    "    \n",
    "    #append sensor to the list of sensors\n",
    "    sensorvec = np.zeros(sensors.shape[1])\n",
    "    sensorvec[0:2] = newsensor\n",
    "    sensorvec[2:] = sensor_params\n",
    "    \n",
    "    sensors = np.vstack((sensors,sensorvec))"
   ]
  },
  {
   "cell_type": "code",
   "execution_count": 4,
   "metadata": {},
   "outputs": [
    {
     "data": {
      "text/plain": [
       "array([[ 4.00000000e+01, -1.11500000e+02,  1.00000000e-01,\n",
       "         2.00000000e+00,  0.00000000e+00],\n",
       "       [ 4.10000000e+01, -1.11900000e+02,  1.00000000e-01,\n",
       "         2.00000000e+00,  0.00000000e+00],\n",
       "       [ 4.09640041e+01, -1.10905371e+02,  1.00000000e-01,\n",
       "         2.00000000e+00,  0.00000000e+00],\n",
       "       [ 4.10746510e+01, -1.10528456e+02,  1.00000000e-01,\n",
       "         2.00000000e+00,  0.00000000e+00],\n",
       "       [ 4.11330714e+01, -1.09965957e+02,  1.00000000e-01,\n",
       "         2.00000000e+00,  0.00000000e+00]])"
      ]
     },
     "execution_count": 4,
     "metadata": {},
     "output_type": "execute_result"
    }
   ],
   "source": [
    "sensors"
   ]
  },
  {
   "cell_type": "code",
   "execution_count": 19,
   "metadata": {},
   "outputs": [],
   "source": [
    "write_input_file(fname, nlpts_data, nlpts_space, ndata, lat_range, long_range, depth_range, sloc_trial, sensor_params, sensors)"
   ]
  },
  {
   "cell_type": "code",
   "execution_count": 5,
   "metadata": {},
   "outputs": [
    {
     "data": {
      "text/plain": [
       "[<matplotlib.lines.Line2D at 0x1600065d0>]"
      ]
     },
     "execution_count": 5,
     "metadata": {},
     "output_type": "execute_result"
    },
    {
     "data": {
      "image/png": "[encoded data removed]",
      "text/plain": [
       "<Figure size 432x288 with 1 Axes>"
      ]
     },
     "metadata": {
      "needs_background": "light"
     },
     "output_type": "display_data"
    }
   ],
   "source": [
    "plt.plot(eigdata_full[:,0])\n",
    "#plt.plot(eigdata_full[:,0]+eigdata_full[:,1])\n",
    "#plt.plot(eigdata_full[:,0]-eigdata_full[:,1])"
   ]
  },
  {
   "cell_type": "code",
   "execution_count": 6,
   "metadata": {},
   "outputs": [
    {
     "data": {
      "text/plain": [
       "<matplotlib.collections.PathCollection at 0x160134e90>"
      ]
     },
     "execution_count": 6,
     "metadata": {},
     "output_type": "execute_result"
    },
    {
     "data": {
      "image/png": "[encoded data removed]",
      "text/plain": [
       "<Figure size 432x288 with 1 Axes>"
      ]
     },
     "metadata": {
      "needs_background": "light"
     },
     "output_type": "display_data"
    }
   ],
   "source": [
    "plt.scatter(np.array(opt.Xi)[:,0],np.array(opt.Xi)[:,1],10,eigdata_full[:,0])"
   ]
  },
  {
   "cell_type": "code",
   "execution_count": null,
   "metadata": {},
   "outputs": [],
   "source": []
  }
 ],
 "metadata": {
  "kernelspec": {
   "display_name": "Python 3",
   "language": "python",
   "name": "python3"
  },
  "language_info": {
   "codemirror_mode": {
    "name": "ipython",
    "version": 3
   },
   "file_extension": ".py",
   "mimetype": "text/x-python",
   "name": "python",
   "nbconvert_exporter": "python",
   "pygments_lexer": "ipython3",
   "version": "3.8.6"
  }
 },
 "nbformat": 4,
 "nbformat_minor": 4
}
